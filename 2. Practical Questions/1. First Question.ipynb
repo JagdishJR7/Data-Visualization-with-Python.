{
 "cells": [
  {
   "cell_type": "code",
   "execution_count": 2,
   "id": "934d2c96",
   "metadata": {},
   "outputs": [],
   "source": [
    "import pandas as pd\n"
   ]
  },
  {
   "cell_type": "code",
   "execution_count": 4,
   "id": "8a3e9e41",
   "metadata": {},
   "outputs": [
    {
     "data": {
      "text/html": [
       "<div>\n",
       "<style scoped>\n",
       "    .dataframe tbody tr th:only-of-type {\n",
       "        vertical-align: middle;\n",
       "    }\n",
       "\n",
       "    .dataframe tbody tr th {\n",
       "        vertical-align: top;\n",
       "    }\n",
       "\n",
       "    .dataframe thead th {\n",
       "        text-align: right;\n",
       "    }\n",
       "</style>\n",
       "<table border=\"1\" class=\"dataframe\">\n",
       "  <thead>\n",
       "    <tr style=\"text-align: right;\">\n",
       "      <th></th>\n",
       "      <th>Sr. No.</th>\n",
       "      <th>Name of Terminus</th>\n",
       "      <th>Nature of Work</th>\n",
       "      <th>Name of Ward</th>\n",
       "    </tr>\n",
       "  </thead>\n",
       "  <tbody>\n",
       "    <tr>\n",
       "      <th>0</th>\n",
       "      <td>1</td>\n",
       "      <td>Lal Darwaja</td>\n",
       "      <td>Bus Terminus/Cash Cabin</td>\n",
       "      <td>Raikhad</td>\n",
       "    </tr>\n",
       "    <tr>\n",
       "      <th>1</th>\n",
       "      <td>2</td>\n",
       "      <td>Wadaj Terminus</td>\n",
       "      <td>Bus Terminus/Cash Cabin</td>\n",
       "      <td>Wadaj</td>\n",
       "    </tr>\n",
       "    <tr>\n",
       "      <th>2</th>\n",
       "      <td>3</td>\n",
       "      <td>Wadaj Bus Stand</td>\n",
       "      <td>Bus Stand</td>\n",
       "      <td>Wadaj</td>\n",
       "    </tr>\n",
       "    <tr>\n",
       "      <th>3</th>\n",
       "      <td>4</td>\n",
       "      <td>Paldi Bus Stand</td>\n",
       "      <td>Bus Stand</td>\n",
       "      <td>Paldi</td>\n",
       "    </tr>\n",
       "    <tr>\n",
       "      <th>4</th>\n",
       "      <td>5</td>\n",
       "      <td>Paldi Depot</td>\n",
       "      <td>Night Parking</td>\n",
       "      <td>Paldi</td>\n",
       "    </tr>\n",
       "  </tbody>\n",
       "</table>\n",
       "</div>"
      ],
      "text/plain": [
       "   Sr. No. Name of Terminus           Nature of Work Name of Ward\n",
       "0        1      Lal Darwaja  Bus Terminus/Cash Cabin      Raikhad\n",
       "1        2   Wadaj Terminus  Bus Terminus/Cash Cabin        Wadaj\n",
       "2        3  Wadaj Bus Stand                Bus Stand        Wadaj\n",
       "3        4  Paldi Bus Stand                Bus Stand        Paldi\n",
       "4        5      Paldi Depot            Night Parking        Paldi"
      ]
     },
     "execution_count": 4,
     "metadata": {},
     "output_type": "execute_result"
    }
   ],
   "source": [
    "df = pd.read_csv(\"Citybus_Transport_Ahmedabad.csv\")\n",
    "df.head()"
   ]
  },
  {
   "cell_type": "code",
   "execution_count": 7,
   "id": "a53e51f2",
   "metadata": {},
   "outputs": [
    {
     "data": {
      "text/html": [
       "<div>\n",
       "<style scoped>\n",
       "    .dataframe tbody tr th:only-of-type {\n",
       "        vertical-align: middle;\n",
       "    }\n",
       "\n",
       "    .dataframe tbody tr th {\n",
       "        vertical-align: top;\n",
       "    }\n",
       "\n",
       "    .dataframe thead th {\n",
       "        text-align: right;\n",
       "    }\n",
       "</style>\n",
       "<table border=\"1\" class=\"dataframe\">\n",
       "  <thead>\n",
       "    <tr style=\"text-align: right;\">\n",
       "      <th></th>\n",
       "      <th>Sr. No.</th>\n",
       "      <th>Name of Terminus</th>\n",
       "      <th>Nature of Work</th>\n",
       "      <th>Name of Ward</th>\n",
       "    </tr>\n",
       "  </thead>\n",
       "  <tbody>\n",
       "    <tr>\n",
       "      <th>14</th>\n",
       "      <td>15</td>\n",
       "      <td>Sabarmati Acher</td>\n",
       "      <td>Private Parking</td>\n",
       "      <td>Sabarmati</td>\n",
       "    </tr>\n",
       "    <tr>\n",
       "      <th>15</th>\n",
       "      <td>16</td>\n",
       "      <td>Memnagar Depot</td>\n",
       "      <td>Depot/Pvt. parking</td>\n",
       "      <td>Navrangpura</td>\n",
       "    </tr>\n",
       "    <tr>\n",
       "      <th>16</th>\n",
       "      <td>17</td>\n",
       "      <td>Naroda-Memco</td>\n",
       "      <td>Depot / Parking</td>\n",
       "      <td>Naroda</td>\n",
       "    </tr>\n",
       "    <tr>\n",
       "      <th>17</th>\n",
       "      <td>18</td>\n",
       "      <td>Millatnagar</td>\n",
       "      <td>Depot / Parking/Cash Cabin</td>\n",
       "      <td>Danilimda</td>\n",
       "    </tr>\n",
       "    <tr>\n",
       "      <th>18</th>\n",
       "      <td>19</td>\n",
       "      <td>Shrinath Depot</td>\n",
       "      <td>Private Parking</td>\n",
       "      <td>Wadaj</td>\n",
       "    </tr>\n",
       "  </tbody>\n",
       "</table>\n",
       "</div>"
      ],
      "text/plain": [
       "    Sr. No. Name of Terminus              Nature of Work Name of Ward\n",
       "14       15  Sabarmati Acher             Private Parking    Sabarmati\n",
       "15       16   Memnagar Depot          Depot/Pvt. parking  Navrangpura\n",
       "16       17     Naroda-Memco             Depot / Parking       Naroda\n",
       "17       18      Millatnagar  Depot / Parking/Cash Cabin    Danilimda\n",
       "18       19   Shrinath Depot             Private Parking        Wadaj"
      ]
     },
     "execution_count": 7,
     "metadata": {},
     "output_type": "execute_result"
    }
   ],
   "source": [
    "df.tail()"
   ]
  },
  {
   "cell_type": "code",
   "execution_count": 6,
   "id": "663d513b",
   "metadata": {},
   "outputs": [
    {
     "data": {
      "text/plain": [
       "(19, 4)"
      ]
     },
     "execution_count": 6,
     "metadata": {},
     "output_type": "execute_result"
    }
   ],
   "source": [
    "df.shape"
   ]
  },
  {
   "cell_type": "code",
   "execution_count": 8,
   "id": "14a659d5",
   "metadata": {},
   "outputs": [
    {
     "data": {
      "text/plain": [
       "<bound method NDFrame.describe of     Sr. No.         Name of Terminus              Nature of Work Name of Ward\n",
       "0         1              Lal Darwaja     Bus Terminus/Cash Cabin      Raikhad\n",
       "1         2           Wadaj Terminus     Bus Terminus/Cash Cabin        Wadaj\n",
       "2         3          Wadaj Bus Stand                   Bus Stand        Wadaj\n",
       "3         4          Paldi Bus Stand                   Bus Stand        Paldi\n",
       "4         5              Paldi Depot               Night Parking        Paldi\n",
       "5         6    Navrangpura Bus Stand                   Bus Stand  Navrangpura\n",
       "6         7   Sarangpur Bus Terminus         Terminus/Cash Cabin    Sarangpur\n",
       "7         8      Naroda Bus Terminus         Terminus/Cash Cabin       Naroda\n",
       "8         9       Vasna Bus Terminus         Terminus/Cash Cabin        Vasna\n",
       "9        10  Hatkeshwar Bus Terminus         Terminus/Cash Cabin   Hatkeshwar\n",
       "10       11    Akhbarnagar  Terminus                Bus Terminus   Nava Wadaj\n",
       "11       12    Sola Housing Terminus                Bus Terminus    Naranpura\n",
       "12       13         Kalupur Terminus         Terminus/Cash Cabin      Kalupur\n",
       "13       14                 Jamalpur             Depot / Parking   Behrampura\n",
       "14       15          Sabarmati Acher             Private Parking    Sabarmati\n",
       "15       16           Memnagar Depot          Depot/Pvt. parking  Navrangpura\n",
       "16       17             Naroda-Memco             Depot / Parking       Naroda\n",
       "17       18              Millatnagar  Depot / Parking/Cash Cabin    Danilimda\n",
       "18       19           Shrinath Depot             Private Parking        Wadaj>"
      ]
     },
     "execution_count": 8,
     "metadata": {},
     "output_type": "execute_result"
    }
   ],
   "source": [
    "df.describe"
   ]
  },
  {
   "cell_type": "code",
   "execution_count": 10,
   "id": "2227529a",
   "metadata": {},
   "outputs": [],
   "source": [
    "import matplotlib as plt"
   ]
  },
  {
   "cell_type": "code",
   "execution_count": null,
   "id": "c49d6dc7",
   "metadata": {},
   "outputs": [],
   "source": []
  }
 ],
 "metadata": {
  "kernelspec": {
   "display_name": "Python 3 (ipykernel)",
   "language": "python",
   "name": "python3"
  },
  "language_info": {
   "codemirror_mode": {
    "name": "ipython",
    "version": 3
   },
   "file_extension": ".py",
   "mimetype": "text/x-python",
   "name": "python",
   "nbconvert_exporter": "python",
   "pygments_lexer": "ipython3",
   "version": "3.9.11"
  }
 },
 "nbformat": 4,
 "nbformat_minor": 5
}
